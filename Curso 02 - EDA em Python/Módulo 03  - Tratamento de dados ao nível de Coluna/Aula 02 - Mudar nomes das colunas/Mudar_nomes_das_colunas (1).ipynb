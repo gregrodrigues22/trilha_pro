{
  "nbformat": 4,
  "nbformat_minor": 0,
  "metadata": {
    "colab": {
      "provenance": [],
      "collapsed_sections": [
        "z9f1lGMGkd6o",
        "UAGP2SvBlek-",
        "3HLQLiaYljTy",
        "9u69PH_wlt3R",
        "YNlroEKnl5Qh",
        "sjJtRB2HmPE-",
        "PUa5ZqztmUIY",
        "tV6dNoCapObO",
        "hE6ZcNrirVob",
        "JIxMwvUp4nRl",
        "zC1-7d975IoM",
        "6yctnn2F5XcT",
        "1vcexPxstS_2",
        "aPkUQfJ2-cp_",
        "HdPurm7V-jnr",
        "8JcGLKpi4v1F",
        "1ETnkHPfsBUw",
        "g1m-Rp84_Y46",
        "zCoatH_-_tzq",
        "NnmqqhEuG1K6",
        "9M_F0gU3G9Nz",
        "FEiKOMl-HGec",
        "G03d8rpiHhL-",
        "GLI4H4MPm2uM",
        "SyzZAD8GoGqs",
        "py6uT9sIARSD",
        "fkXN-sDzBcFr",
        "NDl9NeZmncEC",
        "1_sa1VRKFW8P",
        "G4dmIyweGS7A",
        "iPlySAxMDhlV",
        "ZhGLNriXL0Qp",
        "wBX8JB4fQAxX",
        "qdAVR8I0QbDm",
        "p1YfTBbwzjBn",
        "czytOLfL0mB2",
        "EblKvSmP2Sk2",
        "bFMGfseH3_Sx",
        "zzAGyLjpQnW2",
        "j-8s2a7NV8Ga",
        "LZrd3ADPWiYI",
        "7wB-khdL6sP2",
        "pLNOpoIvWCb8",
        "Ma4ly9C9a_p1",
        "UQC0kKF69V07",
        "IORHJpbs_ynT",
        "oGg3omJ2WtB1",
        "T_avB6YHWP61",
        "-meE11FsWVBN",
        "Xtb9bf4FXKKC",
        "cDWW8cztW7RQ",
        "Q-A83Yy6XPMO",
        "J_AhEDYcXt7H",
        "vP9hk0KPX5WL",
        "I6IVvku8YB85",
        "FoDHN5Rs0g3q",
        "qMkGDKPlX9BR",
        "TI1KJYk1YJsz",
        "Cb8jIYI4JIwq",
        "ObiABSxMKALg",
        "HaKrzq85Vrx0",
        "SaC9ggT7MqL_",
        "kF_JgXRRMvWj",
        "XNbRoIt7C_xy",
        "zsO7dr3UDD9a",
        "ohOcDsmDDGed",
        "i_yx6PKXE4Yp",
        "Br2m-rt2FES9",
        "EJrxFTjJFvLR",
        "zGHhCLCFYQqv",
        "cfC2voc99SzR",
        "pTptuDho9Wm6",
        "bgw6CAF2YYwF",
        "c6ieaQPZZs6V",
        "VV-twW6oZvEa",
        "vtP1X2UZOM82",
        "pSljKCv7YcJm"
      ],
      "toc_visible": true
    },
    "kernelspec": {
      "name": "python3",
      "display_name": "Python 3"
    },
    "language_info": {
      "name": "python"
    }
  },
  "cells": [
    {
      "cell_type": "markdown",
      "source": [
        "# 📌 Transform: Primeiro Tratar"
      ],
      "metadata": {
        "id": "zzAGyLjpQnW2"
      }
    },
    {
      "cell_type": "markdown",
      "source": [
        "[Clique para acessar os dados](https://docs.google.com/spreadsheets/d/1YQhDNSt1sOrzq6AKxyYG6wzRAvM-M7l7jJRIHunNB88/copy?gid=1190375422#gid=1190375422)"
      ],
      "metadata": {
        "id": "FY6pZXcx192P"
      }
    },
    {
      "cell_type": "code",
      "source": [
        "import pandas as pd\n",
        "import numpy as np"
      ],
      "metadata": {
        "id": "RI7M3nq82Obq"
      },
      "execution_count": null,
      "outputs": []
    },
    {
      "cell_type": "code",
      "source": [
        "df_receitas = pd.read_csv('/content/Cópia de Dados - TCC - Planilhas - Receitas.csv')"
      ],
      "metadata": {
        "id": "INqRcjNj8Ffr"
      },
      "execution_count": null,
      "outputs": []
    },
    {
      "cell_type": "markdown",
      "source": [
        "## 1️⃣ Ao nível de colunas"
      ],
      "metadata": {
        "id": "j-8s2a7NV8Ga"
      }
    },
    {
      "cell_type": "markdown",
      "source": [
        "### 💡 Acessar nomes de coluna"
      ],
      "metadata": {
        "id": "LZrd3ADPWiYI"
      }
    },
    {
      "cell_type": "markdown",
      "source": [
        "🔹 O que faz?\n",
        "* Podemos visualizar os nomes das colunas do DataFrame usando\n",
        "* Quando usar? Para verificar se os nomes das colunas estão corretos ou precisam de ajustes.\n"
      ],
      "metadata": {
        "id": "L3prQo0q6QZ1"
      }
    },
    {
      "cell_type": "code",
      "source": [
        "df_receitas.columns"
      ],
      "metadata": {
        "colab": {
          "base_uri": "https://localhost:8080/"
        },
        "id": "coML_KMnZSYS",
        "outputId": "74448f07-73a9-459e-8b0d-a97099e60fa1"
      },
      "execution_count": null,
      "outputs": [
        {
          "output_type": "execute_result",
          "data": {
            "text/plain": [
              "Index(['Data Lançamento', 'Id Atendimento', 'Receita Código',\n",
              "       'Quantidade Vendida', 'Valor de venda', 'Cliente ID', 'Cliente Sexo',\n",
              "       'Cliente Nome', 'Cliente Data Nascimento', 'Cliente Origem',\n",
              "       'Cliente Cidade', 'Profissional Nome', 'Profissional Especialidade',\n",
              "       'Data de Pagamento', 'Forma Pagamento'],\n",
              "      dtype='object')"
            ]
          },
          "metadata": {},
          "execution_count": 811
        }
      ]
    },
    {
      "cell_type": "markdown",
      "source": [
        "### 💡 Mudar nomes de coluna"
      ],
      "metadata": {
        "id": "7wB-khdL6sP2"
      }
    },
    {
      "cell_type": "markdown",
      "source": [
        "🔹 O que faz?\n",
        "* A função .rename() permite alterar o nome de colunas específicas, sem modificar o restante."
      ],
      "metadata": {
        "id": "MXqkYbyl6ump"
      }
    },
    {
      "cell_type": "code",
      "source": [
        "#permite passar um dicionário que atribue a cada coluna existente um novo nome\n",
        "\n",
        "df_receitas = df_receitas.rename(columns={\n",
        "    'Data Lançamento': 'data_lancamento',\n",
        "    'Id Atendimento': 'atendimento_id',\n",
        "    'Receita Código': 'receita_codigo',\n",
        "    'Quantidade Vendida': 'venda_quantidade',\n",
        "    'Valor de venda': 'venda_valor',\n",
        "    'Cliente ID': 'cliente_id',\n",
        "    'Cliente Sexo': 'cliente_sexo',\n",
        "    'Cliente Nome':'cliente_nome',\n",
        "    'Cliente Data Nascimento': 'cliente_nascimento_data',\n",
        "    'Cliente Origem': 'cliente_origem',\n",
        "    'Cliente Cidade': 'cliente_cidade',\n",
        "    'Profissional Nome': 'profissional_nome',\n",
        "    'Profissional Especialidade': 'profissional_especialidade',\n",
        "    'Data de Pagamento': 'pagamento_data',\n",
        "    'Forma Pagamento':'pagamento_forma'\n",
        "    })"
      ],
      "metadata": {
        "id": "2C94bze2WphN"
      },
      "execution_count": null,
      "outputs": []
    },
    {
      "cell_type": "code",
      "source": [
        "df_receitas.columns"
      ],
      "metadata": {
        "colab": {
          "base_uri": "https://localhost:8080/"
        },
        "id": "iIPjhaZmr7oI",
        "outputId": "cb154d9c-af58-4175-d5c9-0a0f13aa5565"
      },
      "execution_count": null,
      "outputs": [
        {
          "output_type": "execute_result",
          "data": {
            "text/plain": [
              "Index(['data_lancamento', 'atendimento_id', 'receita_codigo',\n",
              "       'venda_quantidade', 'venda_valor', 'cliente_id', 'cliente_sexo',\n",
              "       'cliente_nome', 'cliente_nascimento_data', 'cliente_origem',\n",
              "       'cliente_cidade', 'profissional_nome', 'profissional_especialidade',\n",
              "       'pagamento_data', 'pagamento_forma'],\n",
              "      dtype='object')"
            ]
          },
          "metadata": {},
          "execution_count": 813
        }
      ]
    },
    {
      "cell_type": "markdown",
      "source": [
        "🔹 Se quisermos alterar todos os nomes de uma vez, podemos usar a atribuição do nome das colunas, com df.columns = [...], mas tem que usar na mesma sequência da ordem atual das colunas"
      ],
      "metadata": {
        "id": "DB8Iso5C60cG"
      }
    },
    {
      "cell_type": "code",
      "source": [
        "#Usar a identação é uma boa prática\n",
        "\n",
        "df_receitas.columns = ['data_lancamento',\n",
        "                       'atendimento_id',\n",
        "                       'receita_codigo',\n",
        "                       'venda_quantidade',\n",
        "                       'venda_valor',\n",
        "                       'cliente_id',\n",
        "                       'cliente_sexo',\n",
        "                       'cliente_nome',\n",
        "                       'cliente_nascimento_data',\n",
        "                       'cliente_origem',\n",
        "                       'cliente_cidade',\n",
        "                       'profissional_nome',\n",
        "                       'profissional_especialidade',\n",
        "                       'pagamento_data',\n",
        "                       'pagamento_forma'\n",
        "                       ]"
      ],
      "metadata": {
        "id": "HHTqDLWq62j9"
      },
      "execution_count": null,
      "outputs": []
    },
    {
      "cell_type": "markdown",
      "source": [
        "🔹 Se os nomes das colunas estiverem inconsistentes, podemos formatá-los automaticamente para minúsculo"
      ],
      "metadata": {
        "id": "U2YpZadzARcy"
      }
    },
    {
      "cell_type": "code",
      "source": [
        "#df.columns = df.columns.str.lower()"
      ],
      "metadata": {
        "id": "ninlHy6zASHm"
      },
      "execution_count": null,
      "outputs": []
    },
    {
      "cell_type": "markdown",
      "source": [
        "🔹 Ou, se quisermos remover espaços e deixar padronizado:"
      ],
      "metadata": {
        "id": "QbD9AH1KAal8"
      }
    },
    {
      "cell_type": "code",
      "source": [
        "#df_receitas.columns = df_receitas.columns.str.strip().str.replace(\" \", \"_\")"
      ],
      "metadata": {
        "id": "UzeoCFB6AeR9"
      },
      "execution_count": null,
      "outputs": []
    }
  ]
}