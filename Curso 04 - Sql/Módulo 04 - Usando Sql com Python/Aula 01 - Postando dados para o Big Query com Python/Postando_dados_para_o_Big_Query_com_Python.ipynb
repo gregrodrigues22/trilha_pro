{
  "nbformat": 4,
  "nbformat_minor": 0,
  "metadata": {
    "colab": {
      "provenance": []
    },
    "kernelspec": {
      "name": "python3",
      "display_name": "Python 3"
    },
    "language_info": {
      "name": "python"
    }
  },
  "cells": [
    {
      "cell_type": "markdown",
      "metadata": {
        "id": "kbH5fbtuFBjS"
      },
      "source": [
        "# 📚 Aula – BigQuery com Python: **Postando dados**\n"
      ]
    },
    {
      "cell_type": "markdown",
      "source": [
        "Bem-vind@! Nesta aula você vai:\n",
        "\n",
        "- ✅ Autenticar no Google Cloud (Colab)  \n",
        "- ✅ Criar *dataset* e *table* no BigQuery  \n",
        "- ✅ Escrever dados a partir de um `pandas.DataFrame`  \n",
        "- ✅ Verificar o *schema* e executar uma consulta de checagem  \n",
        "- ✅ Apagar/limpar (opcional)  \n",
        "\n",
        "> Dica: rode as células **na ordem**. Ajuste as variáveis `PROJECT_ID`, `DATASET_ID` e `TABLE_ID` 😉"
      ],
      "metadata": {
        "id": "aKs3hPDmH_2G"
      }
    },
    {
      "cell_type": "markdown",
      "metadata": {
        "id": "ZAsKoBO_FBjU"
      },
      "source": [
        "## 🧰 Pré-requisitos\n",
        "- Ter acesso a um projeto no Google Cloud com BigQuery habilitado.  \n",
        "- Estar logado(a) numa conta Google.  \n",
        "- **Permissão** para criar dataset/tabelas no projeto.\n",
        "\n",
        "> Se você estiver no **Google Colab**, a autenticação é feita numa célula abaixo."
      ]
    },
    {
      "cell_type": "markdown",
      "metadata": {
        "id": "VnADYSELFBjY"
      },
      "source": [
        "## 🧪 Criar um `DataFrame` de exemplo\n",
        "Vamos simular algumas vendas ✨"
      ]
    },
    {
      "cell_type": "code",
      "source": [
        "import pandas as pd"
      ],
      "metadata": {
        "id": "uQ2VM5wSHbJN"
      },
      "execution_count": 2,
      "outputs": []
    },
    {
      "cell_type": "code",
      "metadata": {
        "id": "djFgHLG1FBjY",
        "colab": {
          "base_uri": "https://localhost:8080/",
          "height": 143
        },
        "outputId": "76af77e4-49dc-43c9-fe42-f3e788dceae6"
      },
      "execution_count": 3,
      "outputs": [
        {
          "output_type": "execute_result",
          "data": {
            "text/plain": [
              "   id   page  views      dt_ref\n",
              "0   1  posts    120  2025-01-10\n",
              "1   2  posts     45  2025-01-10\n",
              "2   3  posts     12  2025-01-10"
            ],
            "text/html": [
              "\n",
              "  <div id=\"df-c8091262-f67c-41a2-be07-06c1ee3c1d8f\" class=\"colab-df-container\">\n",
              "    <div>\n",
              "<style scoped>\n",
              "    .dataframe tbody tr th:only-of-type {\n",
              "        vertical-align: middle;\n",
              "    }\n",
              "\n",
              "    .dataframe tbody tr th {\n",
              "        vertical-align: top;\n",
              "    }\n",
              "\n",
              "    .dataframe thead th {\n",
              "        text-align: right;\n",
              "    }\n",
              "</style>\n",
              "<table border=\"1\" class=\"dataframe\">\n",
              "  <thead>\n",
              "    <tr style=\"text-align: right;\">\n",
              "      <th></th>\n",
              "      <th>id</th>\n",
              "      <th>page</th>\n",
              "      <th>views</th>\n",
              "      <th>dt_ref</th>\n",
              "    </tr>\n",
              "  </thead>\n",
              "  <tbody>\n",
              "    <tr>\n",
              "      <th>0</th>\n",
              "      <td>1</td>\n",
              "      <td>posts</td>\n",
              "      <td>120</td>\n",
              "      <td>2025-01-10</td>\n",
              "    </tr>\n",
              "    <tr>\n",
              "      <th>1</th>\n",
              "      <td>2</td>\n",
              "      <td>posts</td>\n",
              "      <td>45</td>\n",
              "      <td>2025-01-10</td>\n",
              "    </tr>\n",
              "    <tr>\n",
              "      <th>2</th>\n",
              "      <td>3</td>\n",
              "      <td>posts</td>\n",
              "      <td>12</td>\n",
              "      <td>2025-01-10</td>\n",
              "    </tr>\n",
              "  </tbody>\n",
              "</table>\n",
              "</div>\n",
              "    <div class=\"colab-df-buttons\">\n",
              "\n",
              "  <div class=\"colab-df-container\">\n",
              "    <button class=\"colab-df-convert\" onclick=\"convertToInteractive('df-c8091262-f67c-41a2-be07-06c1ee3c1d8f')\"\n",
              "            title=\"Convert this dataframe to an interactive table.\"\n",
              "            style=\"display:none;\">\n",
              "\n",
              "  <svg xmlns=\"http://www.w3.org/2000/svg\" height=\"24px\" viewBox=\"0 -960 960 960\">\n",
              "    <path d=\"M120-120v-720h720v720H120Zm60-500h600v-160H180v160Zm220 220h160v-160H400v160Zm0 220h160v-160H400v160ZM180-400h160v-160H180v160Zm440 0h160v-160H620v160ZM180-180h160v-160H180v160Zm440 0h160v-160H620v160Z\"/>\n",
              "  </svg>\n",
              "    </button>\n",
              "\n",
              "  <style>\n",
              "    .colab-df-container {\n",
              "      display:flex;\n",
              "      gap: 12px;\n",
              "    }\n",
              "\n",
              "    .colab-df-convert {\n",
              "      background-color: #E8F0FE;\n",
              "      border: none;\n",
              "      border-radius: 50%;\n",
              "      cursor: pointer;\n",
              "      display: none;\n",
              "      fill: #1967D2;\n",
              "      height: 32px;\n",
              "      padding: 0 0 0 0;\n",
              "      width: 32px;\n",
              "    }\n",
              "\n",
              "    .colab-df-convert:hover {\n",
              "      background-color: #E2EBFA;\n",
              "      box-shadow: 0px 1px 2px rgba(60, 64, 67, 0.3), 0px 1px 3px 1px rgba(60, 64, 67, 0.15);\n",
              "      fill: #174EA6;\n",
              "    }\n",
              "\n",
              "    .colab-df-buttons div {\n",
              "      margin-bottom: 4px;\n",
              "    }\n",
              "\n",
              "    [theme=dark] .colab-df-convert {\n",
              "      background-color: #3B4455;\n",
              "      fill: #D2E3FC;\n",
              "    }\n",
              "\n",
              "    [theme=dark] .colab-df-convert:hover {\n",
              "      background-color: #434B5C;\n",
              "      box-shadow: 0px 1px 3px 1px rgba(0, 0, 0, 0.15);\n",
              "      filter: drop-shadow(0px 1px 2px rgba(0, 0, 0, 0.3));\n",
              "      fill: #FFFFFF;\n",
              "    }\n",
              "  </style>\n",
              "\n",
              "    <script>\n",
              "      const buttonEl =\n",
              "        document.querySelector('#df-c8091262-f67c-41a2-be07-06c1ee3c1d8f button.colab-df-convert');\n",
              "      buttonEl.style.display =\n",
              "        google.colab.kernel.accessAllowed ? 'block' : 'none';\n",
              "\n",
              "      async function convertToInteractive(key) {\n",
              "        const element = document.querySelector('#df-c8091262-f67c-41a2-be07-06c1ee3c1d8f');\n",
              "        const dataTable =\n",
              "          await google.colab.kernel.invokeFunction('convertToInteractive',\n",
              "                                                    [key], {});\n",
              "        if (!dataTable) return;\n",
              "\n",
              "        const docLinkHtml = 'Like what you see? Visit the ' +\n",
              "          '<a target=\"_blank\" href=https://colab.research.google.com/notebooks/data_table.ipynb>data table notebook</a>'\n",
              "          + ' to learn more about interactive tables.';\n",
              "        element.innerHTML = '';\n",
              "        dataTable['output_type'] = 'display_data';\n",
              "        await google.colab.output.renderOutput(dataTable, element);\n",
              "        const docLink = document.createElement('div');\n",
              "        docLink.innerHTML = docLinkHtml;\n",
              "        element.appendChild(docLink);\n",
              "      }\n",
              "    </script>\n",
              "  </div>\n",
              "\n",
              "\n",
              "    <div id=\"df-0e2aebab-55e1-44e5-ba45-5a469676a789\">\n",
              "      <button class=\"colab-df-quickchart\" onclick=\"quickchart('df-0e2aebab-55e1-44e5-ba45-5a469676a789')\"\n",
              "                title=\"Suggest charts\"\n",
              "                style=\"display:none;\">\n",
              "\n",
              "<svg xmlns=\"http://www.w3.org/2000/svg\" height=\"24px\"viewBox=\"0 0 24 24\"\n",
              "     width=\"24px\">\n",
              "    <g>\n",
              "        <path d=\"M19 3H5c-1.1 0-2 .9-2 2v14c0 1.1.9 2 2 2h14c1.1 0 2-.9 2-2V5c0-1.1-.9-2-2-2zM9 17H7v-7h2v7zm4 0h-2V7h2v10zm4 0h-2v-4h2v4z\"/>\n",
              "    </g>\n",
              "</svg>\n",
              "      </button>\n",
              "\n",
              "<style>\n",
              "  .colab-df-quickchart {\n",
              "      --bg-color: #E8F0FE;\n",
              "      --fill-color: #1967D2;\n",
              "      --hover-bg-color: #E2EBFA;\n",
              "      --hover-fill-color: #174EA6;\n",
              "      --disabled-fill-color: #AAA;\n",
              "      --disabled-bg-color: #DDD;\n",
              "  }\n",
              "\n",
              "  [theme=dark] .colab-df-quickchart {\n",
              "      --bg-color: #3B4455;\n",
              "      --fill-color: #D2E3FC;\n",
              "      --hover-bg-color: #434B5C;\n",
              "      --hover-fill-color: #FFFFFF;\n",
              "      --disabled-bg-color: #3B4455;\n",
              "      --disabled-fill-color: #666;\n",
              "  }\n",
              "\n",
              "  .colab-df-quickchart {\n",
              "    background-color: var(--bg-color);\n",
              "    border: none;\n",
              "    border-radius: 50%;\n",
              "    cursor: pointer;\n",
              "    display: none;\n",
              "    fill: var(--fill-color);\n",
              "    height: 32px;\n",
              "    padding: 0;\n",
              "    width: 32px;\n",
              "  }\n",
              "\n",
              "  .colab-df-quickchart:hover {\n",
              "    background-color: var(--hover-bg-color);\n",
              "    box-shadow: 0 1px 2px rgba(60, 64, 67, 0.3), 0 1px 3px 1px rgba(60, 64, 67, 0.15);\n",
              "    fill: var(--button-hover-fill-color);\n",
              "  }\n",
              "\n",
              "  .colab-df-quickchart-complete:disabled,\n",
              "  .colab-df-quickchart-complete:disabled:hover {\n",
              "    background-color: var(--disabled-bg-color);\n",
              "    fill: var(--disabled-fill-color);\n",
              "    box-shadow: none;\n",
              "  }\n",
              "\n",
              "  .colab-df-spinner {\n",
              "    border: 2px solid var(--fill-color);\n",
              "    border-color: transparent;\n",
              "    border-bottom-color: var(--fill-color);\n",
              "    animation:\n",
              "      spin 1s steps(1) infinite;\n",
              "  }\n",
              "\n",
              "  @keyframes spin {\n",
              "    0% {\n",
              "      border-color: transparent;\n",
              "      border-bottom-color: var(--fill-color);\n",
              "      border-left-color: var(--fill-color);\n",
              "    }\n",
              "    20% {\n",
              "      border-color: transparent;\n",
              "      border-left-color: var(--fill-color);\n",
              "      border-top-color: var(--fill-color);\n",
              "    }\n",
              "    30% {\n",
              "      border-color: transparent;\n",
              "      border-left-color: var(--fill-color);\n",
              "      border-top-color: var(--fill-color);\n",
              "      border-right-color: var(--fill-color);\n",
              "    }\n",
              "    40% {\n",
              "      border-color: transparent;\n",
              "      border-right-color: var(--fill-color);\n",
              "      border-top-color: var(--fill-color);\n",
              "    }\n",
              "    60% {\n",
              "      border-color: transparent;\n",
              "      border-right-color: var(--fill-color);\n",
              "    }\n",
              "    80% {\n",
              "      border-color: transparent;\n",
              "      border-right-color: var(--fill-color);\n",
              "      border-bottom-color: var(--fill-color);\n",
              "    }\n",
              "    90% {\n",
              "      border-color: transparent;\n",
              "      border-bottom-color: var(--fill-color);\n",
              "    }\n",
              "  }\n",
              "</style>\n",
              "\n",
              "      <script>\n",
              "        async function quickchart(key) {\n",
              "          const quickchartButtonEl =\n",
              "            document.querySelector('#' + key + ' button');\n",
              "          quickchartButtonEl.disabled = true;  // To prevent multiple clicks.\n",
              "          quickchartButtonEl.classList.add('colab-df-spinner');\n",
              "          try {\n",
              "            const charts = await google.colab.kernel.invokeFunction(\n",
              "                'suggestCharts', [key], {});\n",
              "          } catch (error) {\n",
              "            console.error('Error during call to suggestCharts:', error);\n",
              "          }\n",
              "          quickchartButtonEl.classList.remove('colab-df-spinner');\n",
              "          quickchartButtonEl.classList.add('colab-df-quickchart-complete');\n",
              "        }\n",
              "        (() => {\n",
              "          let quickchartButtonEl =\n",
              "            document.querySelector('#df-0e2aebab-55e1-44e5-ba45-5a469676a789 button');\n",
              "          quickchartButtonEl.style.display =\n",
              "            google.colab.kernel.accessAllowed ? 'block' : 'none';\n",
              "        })();\n",
              "      </script>\n",
              "    </div>\n",
              "\n",
              "  <div id=\"id_00a621ad-9239-4719-8d03-7eb87e269b89\">\n",
              "    <style>\n",
              "      .colab-df-generate {\n",
              "        background-color: #E8F0FE;\n",
              "        border: none;\n",
              "        border-radius: 50%;\n",
              "        cursor: pointer;\n",
              "        display: none;\n",
              "        fill: #1967D2;\n",
              "        height: 32px;\n",
              "        padding: 0 0 0 0;\n",
              "        width: 32px;\n",
              "      }\n",
              "\n",
              "      .colab-df-generate:hover {\n",
              "        background-color: #E2EBFA;\n",
              "        box-shadow: 0px 1px 2px rgba(60, 64, 67, 0.3), 0px 1px 3px 1px rgba(60, 64, 67, 0.15);\n",
              "        fill: #174EA6;\n",
              "      }\n",
              "\n",
              "      [theme=dark] .colab-df-generate {\n",
              "        background-color: #3B4455;\n",
              "        fill: #D2E3FC;\n",
              "      }\n",
              "\n",
              "      [theme=dark] .colab-df-generate:hover {\n",
              "        background-color: #434B5C;\n",
              "        box-shadow: 0px 1px 3px 1px rgba(0, 0, 0, 0.15);\n",
              "        filter: drop-shadow(0px 1px 2px rgba(0, 0, 0, 0.3));\n",
              "        fill: #FFFFFF;\n",
              "      }\n",
              "    </style>\n",
              "    <button class=\"colab-df-generate\" onclick=\"generateWithVariable('df')\"\n",
              "            title=\"Generate code using this dataframe.\"\n",
              "            style=\"display:none;\">\n",
              "\n",
              "  <svg xmlns=\"http://www.w3.org/2000/svg\" height=\"24px\"viewBox=\"0 0 24 24\"\n",
              "       width=\"24px\">\n",
              "    <path d=\"M7,19H8.4L18.45,9,17,7.55,7,17.6ZM5,21V16.75L18.45,3.32a2,2,0,0,1,2.83,0l1.4,1.43a1.91,1.91,0,0,1,.58,1.4,1.91,1.91,0,0,1-.58,1.4L9.25,21ZM18.45,9,17,7.55Zm-12,3A5.31,5.31,0,0,0,4.9,8.1,5.31,5.31,0,0,0,1,6.5,5.31,5.31,0,0,0,4.9,4.9,5.31,5.31,0,0,0,6.5,1,5.31,5.31,0,0,0,8.1,4.9,5.31,5.31,0,0,0,12,6.5,5.46,5.46,0,0,0,6.5,12Z\"/>\n",
              "  </svg>\n",
              "    </button>\n",
              "    <script>\n",
              "      (() => {\n",
              "      const buttonEl =\n",
              "        document.querySelector('#id_00a621ad-9239-4719-8d03-7eb87e269b89 button.colab-df-generate');\n",
              "      buttonEl.style.display =\n",
              "        google.colab.kernel.accessAllowed ? 'block' : 'none';\n",
              "\n",
              "      buttonEl.onclick = () => {\n",
              "        google.colab.notebook.generateWithVariable('df');\n",
              "      }\n",
              "      })();\n",
              "    </script>\n",
              "  </div>\n",
              "\n",
              "    </div>\n",
              "  </div>\n"
            ],
            "application/vnd.google.colaboratory.intrinsic+json": {
              "type": "dataframe",
              "variable_name": "df",
              "summary": "{\n  \"name\": \"df\",\n  \"rows\": 3,\n  \"fields\": [\n    {\n      \"column\": \"id\",\n      \"properties\": {\n        \"dtype\": \"number\",\n        \"std\": 1,\n        \"min\": 1,\n        \"max\": 3,\n        \"num_unique_values\": 3,\n        \"samples\": [\n          1,\n          2,\n          3\n        ],\n        \"semantic_type\": \"\",\n        \"description\": \"\"\n      }\n    },\n    {\n      \"column\": \"page\",\n      \"properties\": {\n        \"dtype\": \"category\",\n        \"num_unique_values\": 1,\n        \"samples\": [\n          \"posts\"\n        ],\n        \"semantic_type\": \"\",\n        \"description\": \"\"\n      }\n    },\n    {\n      \"column\": \"views\",\n      \"properties\": {\n        \"dtype\": \"number\",\n        \"std\": 55,\n        \"min\": 12,\n        \"max\": 120,\n        \"num_unique_values\": 3,\n        \"samples\": [\n          120\n        ],\n        \"semantic_type\": \"\",\n        \"description\": \"\"\n      }\n    },\n    {\n      \"column\": \"dt_ref\",\n      \"properties\": {\n        \"dtype\": \"date\",\n        \"min\": \"2025-01-10\",\n        \"max\": \"2025-01-10\",\n        \"num_unique_values\": 1,\n        \"samples\": [\n          \"2025-01-10\"\n        ],\n        \"semantic_type\": \"\",\n        \"description\": \"\"\n      }\n    }\n  ]\n}"
            }
          },
          "metadata": {},
          "execution_count": 3
        }
      ],
      "source": [
        "df = pd.DataFrame({\n",
        "    \"id\": [1,2,3],\n",
        "    \"page\": [\"posts\",\"posts\",\"posts\"],\n",
        "    \"views\": [120, 45, 12],\n",
        "    \"dt_ref\": pd.to_datetime([\"2025-01-10\",\"2025-01-10\",\"2025-01-10\"]).date\n",
        "})\n",
        "\n",
        "df"
      ]
    },
    {
      "cell_type": "markdown",
      "metadata": {
        "id": "gW77RYZKFBjV"
      },
      "source": [
        "## ⬇️ Instalar bibliotecas\n",
        "Se estiver no Colab, rode a célula abaixo:"
      ]
    },
    {
      "cell_type": "code",
      "metadata": {
        "id": "goEstui4FBjV"
      },
      "execution_count": 4,
      "outputs": [],
      "source": [
        "# Se estiver no Colab, descomente a linha abaixo:\n",
        "!pip -q install pandas-gbq google-cloud-bigquery"
      ]
    },
    {
      "cell_type": "markdown",
      "metadata": {
        "id": "vu5uRdIaFBjW"
      },
      "source": [
        "## 🔐 Autenticação (Colab)\n",
        "Rode esta célula no **Colab** para autenticar sua conta Google."
      ]
    },
    {
      "cell_type": "code",
      "metadata": {
        "id": "oWY7cMYeFBjW",
        "colab": {
          "base_uri": "https://localhost:8080/"
        },
        "outputId": "89d97119-7fa8-4ec1-b3b8-b0ded307ade4"
      },
      "execution_count": 5,
      "outputs": [
        {
          "output_type": "stream",
          "name": "stdout",
          "text": [
            "✔ Autenticado com sucesso no Colab!\n"
          ]
        }
      ],
      "source": [
        "try:\n",
        "    from google.colab import auth  # type: ignore\n",
        "    auth.authenticate_user()\n",
        "    print(\"✔ Autenticado com sucesso no Colab!\")\n",
        "except Exception as e:\n",
        "    print(\"ℹ️ Se não estiver no Colab, ignore. Erro/aviso:\", e)"
      ]
    },
    {
      "cell_type": "markdown",
      "metadata": {
        "id": "22rm9QVAFBjW"
      },
      "source": [
        "## ⚙️ Imports e variáveis de ambiente\n",
        "Preencha abaixo seu `PROJECT_ID` e os nomes que deseja para `DATASET_ID` e `TABLE_ID`."
      ]
    },
    {
      "cell_type": "code",
      "source": [
        "import pandas_gbq\n",
        "from google.cloud import bigquery"
      ],
      "metadata": {
        "id": "tHGvJnWRGQXE"
      },
      "execution_count": 7,
      "outputs": []
    },
    {
      "cell_type": "code",
      "metadata": {
        "id": "K5sWJqhlFBjW",
        "colab": {
          "base_uri": "https://localhost:8080/"
        },
        "outputId": "72aac3de-5787-4f97-f1a7-7be988c25cda"
      },
      "execution_count": 8,
      "outputs": [
        {
          "output_type": "stream",
          "name": "stdout",
          "text": [
            "Projeto ativo: escolap2p\n"
          ]
        }
      ],
      "source": [
        "# 🔁 Edite aqui:\n",
        "PROJECT_ID = \"escolap2p\"       # ex.: \"meu-projeto-123\"\n",
        "DATASET_ID = \"cliente_teste\"          # ex.: \"aula01_demo\"\n",
        "DATASET_LOCATION = \"southamerica-east1\"  # ou \"US\", \"EU\", etc.\n",
        "\n",
        "client = bigquery.Client(project=PROJECT_ID)\n",
        "print(\"Projeto ativo:\", client.project)\n"
      ]
    },
    {
      "cell_type": "markdown",
      "metadata": {
        "id": "N7gHs_z-FBjX"
      },
      "source": [
        "## 🗂️ Criar dataset (se não existir)"
      ]
    },
    {
      "cell_type": "code",
      "metadata": {
        "id": "l3oxE421FBjX",
        "colab": {
          "base_uri": "https://localhost:8080/"
        },
        "outputId": "2801342b-05e5-400a-d259-b6a06164eea2"
      },
      "execution_count": 9,
      "outputs": [
        {
          "output_type": "stream",
          "name": "stdout",
          "text": [
            "✔ Dataset garantido: escolap2p.cliente_teste (alvo: southamerica-east1)\n"
          ]
        }
      ],
      "source": [
        "client = bigquery.Client(project=PROJECT_ID)\n",
        "\n",
        "dataset_ref = bigquery.Dataset(f\"{PROJECT_ID}.{DATASET_ID}\")\n",
        "dataset_ref.location = DATASET_LOCATION  # só vale se o dataset ainda não existir\n",
        "\n",
        "# cria se não existir; se existir, apenas retorna sem alterar (location não é trocada)\n",
        "client.create_dataset(dataset_ref, exists_ok=True)\n",
        "print(f\"✔ Dataset garantido: {PROJECT_ID}.{DATASET_ID} (alvo: {DATASET_LOCATION})\")"
      ]
    },
    {
      "cell_type": "markdown",
      "metadata": {
        "id": "1mqA6QV4FBjX"
      },
      "source": [
        "## 🧱 Definir schema para criar a tabela (se não existir)"
      ]
    },
    {
      "cell_type": "code",
      "source": [
        "TABLE_ID   = \"teste_exemplo\"       # ex.: \"vendas_exemplo\""
      ],
      "metadata": {
        "id": "0UeJ7dXMVYfQ"
      },
      "execution_count": 10,
      "outputs": []
    },
    {
      "cell_type": "code",
      "source": [
        "DESTINATION = f\"{DATASET_ID}.{TABLE_ID}\""
      ],
      "metadata": {
        "id": "CyhL5mm0Vad5"
      },
      "execution_count": 11,
      "outputs": []
    },
    {
      "cell_type": "code",
      "source": [
        "schema = [\n",
        "    {\"name\": \"id\", \"type\": \"INT64\"},\n",
        "    {\"name\": \"page\", \"type\": \"STRING\"},\n",
        "    {\"name\": \"views\", \"type\": \"INT64\"},\n",
        "    {\"name\": \"dt_ref\", \"type\": \"DATE\"},\n",
        "]"
      ],
      "metadata": {
        "id": "PrCtDJEfGbp0"
      },
      "execution_count": 13,
      "outputs": []
    },
    {
      "cell_type": "markdown",
      "metadata": {
        "id": "52YRQCU9FBjY"
      },
      "source": [
        "## 📤 Enviar `DataFrame` → BigQuery\n"
      ]
    },
    {
      "cell_type": "code",
      "metadata": {
        "id": "ajCXu5sPFBjY",
        "colab": {
          "base_uri": "https://localhost:8080/"
        },
        "outputId": "26210673-a93a-40b8-cfa4-1dc0da05a03d"
      },
      "execution_count": 16,
      "outputs": [
        {
          "output_type": "stream",
          "name": "stderr",
          "text": [
            "100%|██████████| 1/1 [00:00<00:00, 9576.04it/s]\n"
          ]
        }
      ],
      "source": [
        "pandas_gbq.to_gbq(\n",
        "    df,\n",
        "    destination_table=f\"{DATASET_ID}.{TABLE_ID}\",\n",
        "    project_id=PROJECT_ID,\n",
        "    if_exists=\"replace\",  # Especifica o comportamento se a tabela já existir: 'fail', 'replace', 'append'\n",
        "    location=DATASET_LOCATION,\n",
        "    table_schema=schema\n",
        ")"
      ]
    },
    {
      "cell_type": "markdown",
      "metadata": {
        "id": "B-OQzmNvFBjY"
      },
      "source": [
        "## 🧠 Exercícios (mão na massa)"
      ]
    },
    {
      "cell_type": "markdown",
      "source": [
        "**Append vs Replace 🔁**\n",
        "* Envie um DF pequeno com if_exists=\"append\".\n",
        "* Reenvie o mesmo DF com if_exists=\"replace\".\n",
        "* Meta: entender quando sobrescrever vs. anexar.\n",
        "\n",
        "**Schema explícito 🧱**\n",
        "* Envie um DF especificando table_schema=[...] (inclua DATE, INT64, NUMERIC).\n",
        "* Depois tente enviar sem schema e compare os tipos criados pelo BigQuery.\n",
        "* Meta: evitar inferência errada.\n",
        "\n",
        "**Região do job 🌎**\n",
        "* Garanta o dataset em southamerica-east1.\n",
        "* Envie com to_gbq(..., location=\"southamerica-east1\").\n",
        "* Em seguida, tente sem location e observe o erro/aviso.\n",
        "* Meta: gravar sempre na mesma região do dataset."
      ],
      "metadata": {
        "id": "pJtm2Fm-IjmH"
      }
    },
    {
      "cell_type": "markdown",
      "metadata": {
        "id": "9SNstgmFFBjZ"
      },
      "source": [
        "## 🎯 Conclusão\n",
        "Você autenticou, criou dataset/tabela, escreveu dados com `pandas` e validou com uma consulta.  \n",
        "Na **Aula 02**, vamos **adquirir dados do BigQuery com Python**."
      ]
    }
  ]
}