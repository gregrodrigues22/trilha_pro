{
  "nbformat": 4,
  "nbformat_minor": 0,
  "metadata": {
    "colab": {
      "provenance": []
    },
    "kernelspec": {
      "name": "python3",
      "display_name": "Python 3"
    },
    "language_info": {
      "name": "python"
    }
  },
  "cells": [
    {
      "cell_type": "markdown",
      "metadata": {
        "id": "MWiVYvZrOlFp"
      },
      "source": [
        "# 🔎 BigQuery com Python: **Adquirindo dados**\n"
      ]
    },
    {
      "cell_type": "markdown",
      "source": [
        "Nesta aula você vai:\n",
        "\n",
        "- ✅ Ler dados com `pandas_gbq.read_gbq`  \n",
        "- ✅ Ler dados com `google.cloud.bigquery.Client.query(...).to_dataframe()`  \n",
        "- ✅ Fazer *dry-run* e estimar bytes (💸)  \n",
        "- ✅ Proteger com `maximum_bytes_billed`  \n",
        "- ✅ Usar parâmetros (seguro)  \n",
        "- ✅ Salvar para CSV/Parquet  \n",
        "\n",
        "> Rode as células na ordem. Ajuste `PROJECT_ID` e `LOCATION` 😉"
      ],
      "metadata": {
        "id": "2lIljoPCO2HH"
      }
    },
    {
      "cell_type": "markdown",
      "metadata": {
        "id": "DFtBIzQLOlFq"
      },
      "source": [
        "## 🧰 Pré-requisitos\n",
        "- Projeto GCP com BigQuery habilitado  \n",
        "- Permissão de leitura  \n",
        "- Dataset/tabela já existentes (da aula 01 ou do seu projeto)"
      ]
    },
    {
      "cell_type": "markdown",
      "metadata": {
        "id": "7zA6G20nOlFq"
      },
      "source": [
        "## ⬇️ Instalar bibliotecas (Colab)\n",
        "Se estiver no Colab, rode:"
      ]
    },
    {
      "cell_type": "code",
      "metadata": {
        "id": "2SEHcuCaOlFq"
      },
      "execution_count": 3,
      "outputs": [],
      "source": [
        "!pip -q install pandas-gbq google-cloud-bigquery"
      ]
    },
    {
      "cell_type": "markdown",
      "metadata": {
        "id": "U9wBPE_fOlFr"
      },
      "source": [
        "## 🔐 Autenticação (Colab)"
      ]
    },
    {
      "cell_type": "code",
      "metadata": {
        "id": "TW-eeQdMOlFr",
        "colab": {
          "base_uri": "https://localhost:8080/"
        },
        "outputId": "714bf00c-8e2c-40e2-997d-104a79a7b550"
      },
      "execution_count": 4,
      "outputs": [
        {
          "output_type": "stream",
          "name": "stdout",
          "text": [
            "✔ Autenticado com sucesso!\n"
          ]
        }
      ],
      "source": [
        "try:\n",
        "    from google.colab import auth  # type: ignore\n",
        "    auth.authenticate_user()\n",
        "    print(\"✔ Autenticado com sucesso!\")\n",
        "except Exception as e:\n",
        "    print(\"ℹ️ Se não estiver no Colab, ignore. Aviso:\", e)"
      ]
    },
    {
      "cell_type": "code",
      "metadata": {
        "id": "6naY2RYwOlFr",
        "colab": {
          "base_uri": "https://localhost:8080/"
        },
        "outputId": "a02e1901-2288-4de7-e9d7-f68e81dc71ff"
      },
      "execution_count": 5,
      "outputs": [
        {
          "output_type": "stream",
          "name": "stdout",
          "text": [
            "Projeto: escolap2p\n",
            "Local: southamerica-east1\n",
            "Tabela alvo: escolap2p.cliente_teste.teste_exemplo\n"
          ]
        }
      ],
      "source": [
        "import pandas as pd\n",
        "import pandas_gbq\n",
        "from google.cloud import bigquery\n",
        "\n",
        "PROJECT_ID = \"escolap2p\"\n",
        "LOCATION   = \"southamerica-east1\"   # ex.: \"US\", \"EU\", \"southamerica-east1\"\n",
        "\n",
        "# Exemplo de destino da Aula 01 (ajuste conforme seu projeto)\n",
        "DATASET_ID = \"cliente_teste\"\n",
        "TABLE_ID   = \"teste_exemplo\"\n",
        "\n",
        "FULL_TABLE = f\"{PROJECT_ID}.{DATASET_ID}.{TABLE_ID}\"\n",
        "\n",
        "print(\"Projeto:\", PROJECT_ID)\n",
        "print(\"Local:\", LOCATION)\n",
        "print(\"Tabela alvo:\", FULL_TABLE)\n"
      ]
    },
    {
      "cell_type": "markdown",
      "metadata": {
        "id": "l2CVSuqOOlFs"
      },
      "source": [
        "## 📚 Lendo com `pandas_gbq.read_gbq`"
      ]
    },
    {
      "cell_type": "code",
      "metadata": {
        "id": "zAyRPSAOOlFs"
      },
      "execution_count": 6,
      "outputs": [],
      "source": [
        "query = f\"\"\"\n",
        "SELECT *\n",
        "FROM `{FULL_TABLE}`\n",
        "LIMIT 100\n",
        "\"\"\""
      ]
    },
    {
      "cell_type": "code",
      "source": [
        "df_a = pandas_gbq.read_gbq(query, project_id=PROJECT_ID, location=LOCATION)"
      ],
      "metadata": {
        "colab": {
          "base_uri": "https://localhost:8080/"
        },
        "id": "ZifbIXPcZU4b",
        "outputId": "cc720c1b-934c-4dc9-dd7b-3b1cbeebe7e5"
      },
      "execution_count": 7,
      "outputs": [
        {
          "output_type": "stream",
          "name": "stdout",
          "text": [
            "Downloading: 100%|\u001b[32m██████████\u001b[0m|\n"
          ]
        }
      ]
    },
    {
      "cell_type": "code",
      "source": [
        "df_a.head()"
      ],
      "metadata": {
        "colab": {
          "base_uri": "https://localhost:8080/",
          "height": 143
        },
        "id": "l6uUemmNZWAZ",
        "outputId": "e0cf3023-9ca0-4997-df42-ccecaae70f12"
      },
      "execution_count": 8,
      "outputs": [
        {
          "output_type": "execute_result",
          "data": {
            "text/plain": [
              "   id   page  views      dt_ref\n",
              "0   1  posts    120  2025-01-10\n",
              "1   2  posts     45  2025-01-10\n",
              "2   3  posts     12  2025-01-10"
            ],
            "text/html": [
              "\n",
              "  <div id=\"df-a7669e64-57f5-4bf0-82f7-aae083b7c96c\" class=\"colab-df-container\">\n",
              "    <div>\n",
              "<style scoped>\n",
              "    .dataframe tbody tr th:only-of-type {\n",
              "        vertical-align: middle;\n",
              "    }\n",
              "\n",
              "    .dataframe tbody tr th {\n",
              "        vertical-align: top;\n",
              "    }\n",
              "\n",
              "    .dataframe thead th {\n",
              "        text-align: right;\n",
              "    }\n",
              "</style>\n",
              "<table border=\"1\" class=\"dataframe\">\n",
              "  <thead>\n",
              "    <tr style=\"text-align: right;\">\n",
              "      <th></th>\n",
              "      <th>id</th>\n",
              "      <th>page</th>\n",
              "      <th>views</th>\n",
              "      <th>dt_ref</th>\n",
              "    </tr>\n",
              "  </thead>\n",
              "  <tbody>\n",
              "    <tr>\n",
              "      <th>0</th>\n",
              "      <td>1</td>\n",
              "      <td>posts</td>\n",
              "      <td>120</td>\n",
              "      <td>2025-01-10</td>\n",
              "    </tr>\n",
              "    <tr>\n",
              "      <th>1</th>\n",
              "      <td>2</td>\n",
              "      <td>posts</td>\n",
              "      <td>45</td>\n",
              "      <td>2025-01-10</td>\n",
              "    </tr>\n",
              "    <tr>\n",
              "      <th>2</th>\n",
              "      <td>3</td>\n",
              "      <td>posts</td>\n",
              "      <td>12</td>\n",
              "      <td>2025-01-10</td>\n",
              "    </tr>\n",
              "  </tbody>\n",
              "</table>\n",
              "</div>\n",
              "    <div class=\"colab-df-buttons\">\n",
              "\n",
              "  <div class=\"colab-df-container\">\n",
              "    <button class=\"colab-df-convert\" onclick=\"convertToInteractive('df-a7669e64-57f5-4bf0-82f7-aae083b7c96c')\"\n",
              "            title=\"Convert this dataframe to an interactive table.\"\n",
              "            style=\"display:none;\">\n",
              "\n",
              "  <svg xmlns=\"http://www.w3.org/2000/svg\" height=\"24px\" viewBox=\"0 -960 960 960\">\n",
              "    <path d=\"M120-120v-720h720v720H120Zm60-500h600v-160H180v160Zm220 220h160v-160H400v160Zm0 220h160v-160H400v160ZM180-400h160v-160H180v160Zm440 0h160v-160H620v160ZM180-180h160v-160H180v160Zm440 0h160v-160H620v160Z\"/>\n",
              "  </svg>\n",
              "    </button>\n",
              "\n",
              "  <style>\n",
              "    .colab-df-container {\n",
              "      display:flex;\n",
              "      gap: 12px;\n",
              "    }\n",
              "\n",
              "    .colab-df-convert {\n",
              "      background-color: #E8F0FE;\n",
              "      border: none;\n",
              "      border-radius: 50%;\n",
              "      cursor: pointer;\n",
              "      display: none;\n",
              "      fill: #1967D2;\n",
              "      height: 32px;\n",
              "      padding: 0 0 0 0;\n",
              "      width: 32px;\n",
              "    }\n",
              "\n",
              "    .colab-df-convert:hover {\n",
              "      background-color: #E2EBFA;\n",
              "      box-shadow: 0px 1px 2px rgba(60, 64, 67, 0.3), 0px 1px 3px 1px rgba(60, 64, 67, 0.15);\n",
              "      fill: #174EA6;\n",
              "    }\n",
              "\n",
              "    .colab-df-buttons div {\n",
              "      margin-bottom: 4px;\n",
              "    }\n",
              "\n",
              "    [theme=dark] .colab-df-convert {\n",
              "      background-color: #3B4455;\n",
              "      fill: #D2E3FC;\n",
              "    }\n",
              "\n",
              "    [theme=dark] .colab-df-convert:hover {\n",
              "      background-color: #434B5C;\n",
              "      box-shadow: 0px 1px 3px 1px rgba(0, 0, 0, 0.15);\n",
              "      filter: drop-shadow(0px 1px 2px rgba(0, 0, 0, 0.3));\n",
              "      fill: #FFFFFF;\n",
              "    }\n",
              "  </style>\n",
              "\n",
              "    <script>\n",
              "      const buttonEl =\n",
              "        document.querySelector('#df-a7669e64-57f5-4bf0-82f7-aae083b7c96c button.colab-df-convert');\n",
              "      buttonEl.style.display =\n",
              "        google.colab.kernel.accessAllowed ? 'block' : 'none';\n",
              "\n",
              "      async function convertToInteractive(key) {\n",
              "        const element = document.querySelector('#df-a7669e64-57f5-4bf0-82f7-aae083b7c96c');\n",
              "        const dataTable =\n",
              "          await google.colab.kernel.invokeFunction('convertToInteractive',\n",
              "                                                    [key], {});\n",
              "        if (!dataTable) return;\n",
              "\n",
              "        const docLinkHtml = 'Like what you see? Visit the ' +\n",
              "          '<a target=\"_blank\" href=https://colab.research.google.com/notebooks/data_table.ipynb>data table notebook</a>'\n",
              "          + ' to learn more about interactive tables.';\n",
              "        element.innerHTML = '';\n",
              "        dataTable['output_type'] = 'display_data';\n",
              "        await google.colab.output.renderOutput(dataTable, element);\n",
              "        const docLink = document.createElement('div');\n",
              "        docLink.innerHTML = docLinkHtml;\n",
              "        element.appendChild(docLink);\n",
              "      }\n",
              "    </script>\n",
              "  </div>\n",
              "\n",
              "\n",
              "    <div id=\"df-6c78b07a-daaa-4913-8a2f-99df8de76a80\">\n",
              "      <button class=\"colab-df-quickchart\" onclick=\"quickchart('df-6c78b07a-daaa-4913-8a2f-99df8de76a80')\"\n",
              "                title=\"Suggest charts\"\n",
              "                style=\"display:none;\">\n",
              "\n",
              "<svg xmlns=\"http://www.w3.org/2000/svg\" height=\"24px\"viewBox=\"0 0 24 24\"\n",
              "     width=\"24px\">\n",
              "    <g>\n",
              "        <path d=\"M19 3H5c-1.1 0-2 .9-2 2v14c0 1.1.9 2 2 2h14c1.1 0 2-.9 2-2V5c0-1.1-.9-2-2-2zM9 17H7v-7h2v7zm4 0h-2V7h2v10zm4 0h-2v-4h2v4z\"/>\n",
              "    </g>\n",
              "</svg>\n",
              "      </button>\n",
              "\n",
              "<style>\n",
              "  .colab-df-quickchart {\n",
              "      --bg-color: #E8F0FE;\n",
              "      --fill-color: #1967D2;\n",
              "      --hover-bg-color: #E2EBFA;\n",
              "      --hover-fill-color: #174EA6;\n",
              "      --disabled-fill-color: #AAA;\n",
              "      --disabled-bg-color: #DDD;\n",
              "  }\n",
              "\n",
              "  [theme=dark] .colab-df-quickchart {\n",
              "      --bg-color: #3B4455;\n",
              "      --fill-color: #D2E3FC;\n",
              "      --hover-bg-color: #434B5C;\n",
              "      --hover-fill-color: #FFFFFF;\n",
              "      --disabled-bg-color: #3B4455;\n",
              "      --disabled-fill-color: #666;\n",
              "  }\n",
              "\n",
              "  .colab-df-quickchart {\n",
              "    background-color: var(--bg-color);\n",
              "    border: none;\n",
              "    border-radius: 50%;\n",
              "    cursor: pointer;\n",
              "    display: none;\n",
              "    fill: var(--fill-color);\n",
              "    height: 32px;\n",
              "    padding: 0;\n",
              "    width: 32px;\n",
              "  }\n",
              "\n",
              "  .colab-df-quickchart:hover {\n",
              "    background-color: var(--hover-bg-color);\n",
              "    box-shadow: 0 1px 2px rgba(60, 64, 67, 0.3), 0 1px 3px 1px rgba(60, 64, 67, 0.15);\n",
              "    fill: var(--button-hover-fill-color);\n",
              "  }\n",
              "\n",
              "  .colab-df-quickchart-complete:disabled,\n",
              "  .colab-df-quickchart-complete:disabled:hover {\n",
              "    background-color: var(--disabled-bg-color);\n",
              "    fill: var(--disabled-fill-color);\n",
              "    box-shadow: none;\n",
              "  }\n",
              "\n",
              "  .colab-df-spinner {\n",
              "    border: 2px solid var(--fill-color);\n",
              "    border-color: transparent;\n",
              "    border-bottom-color: var(--fill-color);\n",
              "    animation:\n",
              "      spin 1s steps(1) infinite;\n",
              "  }\n",
              "\n",
              "  @keyframes spin {\n",
              "    0% {\n",
              "      border-color: transparent;\n",
              "      border-bottom-color: var(--fill-color);\n",
              "      border-left-color: var(--fill-color);\n",
              "    }\n",
              "    20% {\n",
              "      border-color: transparent;\n",
              "      border-left-color: var(--fill-color);\n",
              "      border-top-color: var(--fill-color);\n",
              "    }\n",
              "    30% {\n",
              "      border-color: transparent;\n",
              "      border-left-color: var(--fill-color);\n",
              "      border-top-color: var(--fill-color);\n",
              "      border-right-color: var(--fill-color);\n",
              "    }\n",
              "    40% {\n",
              "      border-color: transparent;\n",
              "      border-right-color: var(--fill-color);\n",
              "      border-top-color: var(--fill-color);\n",
              "    }\n",
              "    60% {\n",
              "      border-color: transparent;\n",
              "      border-right-color: var(--fill-color);\n",
              "    }\n",
              "    80% {\n",
              "      border-color: transparent;\n",
              "      border-right-color: var(--fill-color);\n",
              "      border-bottom-color: var(--fill-color);\n",
              "    }\n",
              "    90% {\n",
              "      border-color: transparent;\n",
              "      border-bottom-color: var(--fill-color);\n",
              "    }\n",
              "  }\n",
              "</style>\n",
              "\n",
              "      <script>\n",
              "        async function quickchart(key) {\n",
              "          const quickchartButtonEl =\n",
              "            document.querySelector('#' + key + ' button');\n",
              "          quickchartButtonEl.disabled = true;  // To prevent multiple clicks.\n",
              "          quickchartButtonEl.classList.add('colab-df-spinner');\n",
              "          try {\n",
              "            const charts = await google.colab.kernel.invokeFunction(\n",
              "                'suggestCharts', [key], {});\n",
              "          } catch (error) {\n",
              "            console.error('Error during call to suggestCharts:', error);\n",
              "          }\n",
              "          quickchartButtonEl.classList.remove('colab-df-spinner');\n",
              "          quickchartButtonEl.classList.add('colab-df-quickchart-complete');\n",
              "        }\n",
              "        (() => {\n",
              "          let quickchartButtonEl =\n",
              "            document.querySelector('#df-6c78b07a-daaa-4913-8a2f-99df8de76a80 button');\n",
              "          quickchartButtonEl.style.display =\n",
              "            google.colab.kernel.accessAllowed ? 'block' : 'none';\n",
              "        })();\n",
              "      </script>\n",
              "    </div>\n",
              "\n",
              "    </div>\n",
              "  </div>\n"
            ],
            "application/vnd.google.colaboratory.intrinsic+json": {
              "type": "dataframe",
              "variable_name": "df_a",
              "summary": "{\n  \"name\": \"df_a\",\n  \"rows\": 3,\n  \"fields\": [\n    {\n      \"column\": \"id\",\n      \"properties\": {\n        \"dtype\": \"Int64\",\n        \"num_unique_values\": 3,\n        \"samples\": [\n          1,\n          2,\n          3\n        ],\n        \"semantic_type\": \"\",\n        \"description\": \"\"\n      }\n    },\n    {\n      \"column\": \"page\",\n      \"properties\": {\n        \"dtype\": \"category\",\n        \"num_unique_values\": 1,\n        \"samples\": [\n          \"posts\"\n        ],\n        \"semantic_type\": \"\",\n        \"description\": \"\"\n      }\n    },\n    {\n      \"column\": \"views\",\n      \"properties\": {\n        \"dtype\": \"Int64\",\n        \"num_unique_values\": 3,\n        \"samples\": [\n          120\n        ],\n        \"semantic_type\": \"\",\n        \"description\": \"\"\n      }\n    },\n    {\n      \"column\": \"dt_ref\",\n      \"properties\": {\n        \"dtype\": \"dbdate\",\n        \"num_unique_values\": 1,\n        \"samples\": [\n          \"2025-01-10\"\n        ],\n        \"semantic_type\": \"\",\n        \"description\": \"\"\n      }\n    }\n  ]\n}"
            }
          },
          "metadata": {},
          "execution_count": 8
        }
      ]
    },
    {
      "cell_type": "markdown",
      "metadata": {
        "id": "hTi1-pkROlFs"
      },
      "source": [
        "### 💸 Dry-run: estime custo antes de executar"
      ]
    },
    {
      "cell_type": "code",
      "metadata": {
        "id": "PQZKeiygOlFs",
        "colab": {
          "base_uri": "https://localhost:8080/"
        },
        "outputId": "cf180290-ac74-415d-b740-78883a4cc9db"
      },
      "execution_count": 9,
      "outputs": [
        {
          "output_type": "stream",
          "name": "stdout",
          "text": [
            "Estimativa de bytes processados: 93 B (~0.000 GB)\n"
          ]
        }
      ],
      "source": [
        "client = bigquery.Client(project=PROJECT_ID, location=LOCATION)\n",
        "\n",
        "job_config = bigquery.QueryJobConfig(dry_run=True, use_query_cache=False)\n",
        "dry = client.query(query, job_config=job_config)\n",
        "print(f\"Estimativa de bytes processados: {dry.total_bytes_processed:,} B (~{dry.total_bytes_processed/1e9:.3f} GB)\")"
      ]
    },
    {
      "cell_type": "markdown",
      "metadata": {
        "id": "TrLhNCs7OlFt"
      },
      "source": [
        "## B) 🧪 Parâmetro para acelerar leitura"
      ]
    },
    {
      "cell_type": "code",
      "source": [
        "df_a = pandas_gbq.read_gbq(query, project_id=PROJECT_ID, location=LOCATION, use_bqstorage_api=True)\n",
        "df_a.head()"
      ],
      "metadata": {
        "id": "8jvc6J-aRy_v"
      },
      "execution_count": null,
      "outputs": []
    },
    {
      "cell_type": "markdown",
      "metadata": {
        "id": "166gl4ZaOlFu"
      },
      "source": [
        "## 🧠 Exercícios (mão na massa)\n",
        "1. **Cache de resultados:** execute a mesma query 2x com  use_bqstorage_api=True e `False`; observe tempo/bytes."
      ]
    },
    {
      "cell_type": "markdown",
      "metadata": {
        "id": "DEPcKuX3OlFu"
      },
      "source": [
        "## 🎯 Conclusão\n",
        "Você aprendeu a **adquirir dados** do BigQuery com segurança e eficiência: `read_gbq`.\n",
        "Na **Aula 03**, vamos **agendar uma rotina** com *Managed Notebooks*"
      ]
    }
  ]
}